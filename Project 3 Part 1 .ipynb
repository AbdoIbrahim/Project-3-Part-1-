{
 "cells": [
  {
   "cell_type": "markdown",
   "id": "2139d6b6",
   "metadata": {},
   "source": [
    "# Project 3 Part 1 \n",
    "\n"
   ]
  },
  {
   "cell_type": "code",
   "execution_count": 1,
   "id": "9248b269",
   "metadata": {
    "ExecuteTime": {
     "end_time": "2022-10-27T01:02:12.436545Z",
     "start_time": "2022-10-27T01:02:10.240160Z"
    }
   },
   "outputs": [],
   "source": [
    "#imports \n",
    "import pandas as pd\n",
    "import numpy as np\n",
    "import seaborn as sns \n",
    "import matplotlib.pyplot as plt "
   ]
  },
  {
   "cell_type": "code",
   "execution_count": 2,
   "id": "839380c5",
   "metadata": {
    "ExecuteTime": {
     "end_time": "2022-10-27T01:02:12.449192Z",
     "start_time": "2022-10-27T01:02:12.443474Z"
    }
   },
   "outputs": [
    {
     "name": "stdout",
     "output_type": "stream",
     "text": [
      "CPU times: user 3 µs, sys: 1 µs, total: 4 µs\n",
      "Wall time: 7.15 µs\n"
     ]
    }
   ],
   "source": [
    "%%time\n",
    "basics = 'https://datasets.imdbws.com/title.basics.tsv.gz'\n",
    "akas = 'https://datasets.imdbws.com/title.akas.tsv.gz'\n",
    "ratings = 'https://datasets.imdbws.com/title.ratings.tsv.gz'"
   ]
  },
  {
   "cell_type": "code",
   "execution_count": 3,
   "id": "b6f5d5c3",
   "metadata": {
    "ExecuteTime": {
     "end_time": "2022-10-27T01:03:01.250123Z",
     "start_time": "2022-10-27T01:02:12.464499Z"
    }
   },
   "outputs": [
    {
     "name": "stdout",
     "output_type": "stream",
     "text": [
      "CPU times: user 30 s, sys: 4.71 s, total: 34.7 s\n",
      "Wall time: 48.8 s\n"
     ]
    }
   ],
   "source": [
    "%%time\n",
    "basics = pd.read_csv(basics, sep='\\t', low_memory=False)"
   ]
  },
  {
   "cell_type": "code",
   "execution_count": 4,
   "id": "304169c5",
   "metadata": {
    "ExecuteTime": {
     "end_time": "2022-10-27T01:03:01.272263Z",
     "start_time": "2022-10-27T01:03:01.252987Z"
    }
   },
   "outputs": [
    {
     "name": "stdout",
     "output_type": "stream",
     "text": [
      "CPU times: user 2 µs, sys: 1e+03 ns, total: 3 µs\n",
      "Wall time: 5.96 µs\n"
     ]
    },
    {
     "data": {
      "text/html": [
       "<div>\n",
       "<style scoped>\n",
       "    .dataframe tbody tr th:only-of-type {\n",
       "        vertical-align: middle;\n",
       "    }\n",
       "\n",
       "    .dataframe tbody tr th {\n",
       "        vertical-align: top;\n",
       "    }\n",
       "\n",
       "    .dataframe thead th {\n",
       "        text-align: right;\n",
       "    }\n",
       "</style>\n",
       "<table border=\"1\" class=\"dataframe\">\n",
       "  <thead>\n",
       "    <tr style=\"text-align: right;\">\n",
       "      <th></th>\n",
       "      <th>tconst</th>\n",
       "      <th>titleType</th>\n",
       "      <th>primaryTitle</th>\n",
       "      <th>originalTitle</th>\n",
       "      <th>isAdult</th>\n",
       "      <th>startYear</th>\n",
       "      <th>endYear</th>\n",
       "      <th>runtimeMinutes</th>\n",
       "      <th>genres</th>\n",
       "    </tr>\n",
       "  </thead>\n",
       "  <tbody>\n",
       "    <tr>\n",
       "      <th>0</th>\n",
       "      <td>tt0000001</td>\n",
       "      <td>short</td>\n",
       "      <td>Carmencita</td>\n",
       "      <td>Carmencita</td>\n",
       "      <td>0</td>\n",
       "      <td>1894</td>\n",
       "      <td>\\N</td>\n",
       "      <td>1</td>\n",
       "      <td>Documentary,Short</td>\n",
       "    </tr>\n",
       "    <tr>\n",
       "      <th>1</th>\n",
       "      <td>tt0000002</td>\n",
       "      <td>short</td>\n",
       "      <td>Le clown et ses chiens</td>\n",
       "      <td>Le clown et ses chiens</td>\n",
       "      <td>0</td>\n",
       "      <td>1892</td>\n",
       "      <td>\\N</td>\n",
       "      <td>5</td>\n",
       "      <td>Animation,Short</td>\n",
       "    </tr>\n",
       "    <tr>\n",
       "      <th>2</th>\n",
       "      <td>tt0000003</td>\n",
       "      <td>short</td>\n",
       "      <td>Pauvre Pierrot</td>\n",
       "      <td>Pauvre Pierrot</td>\n",
       "      <td>0</td>\n",
       "      <td>1892</td>\n",
       "      <td>\\N</td>\n",
       "      <td>4</td>\n",
       "      <td>Animation,Comedy,Romance</td>\n",
       "    </tr>\n",
       "    <tr>\n",
       "      <th>3</th>\n",
       "      <td>tt0000004</td>\n",
       "      <td>short</td>\n",
       "      <td>Un bon bock</td>\n",
       "      <td>Un bon bock</td>\n",
       "      <td>0</td>\n",
       "      <td>1892</td>\n",
       "      <td>\\N</td>\n",
       "      <td>12</td>\n",
       "      <td>Animation,Short</td>\n",
       "    </tr>\n",
       "    <tr>\n",
       "      <th>4</th>\n",
       "      <td>tt0000005</td>\n",
       "      <td>short</td>\n",
       "      <td>Blacksmith Scene</td>\n",
       "      <td>Blacksmith Scene</td>\n",
       "      <td>0</td>\n",
       "      <td>1893</td>\n",
       "      <td>\\N</td>\n",
       "      <td>1</td>\n",
       "      <td>Comedy,Short</td>\n",
       "    </tr>\n",
       "    <tr>\n",
       "      <th>...</th>\n",
       "      <td>...</td>\n",
       "      <td>...</td>\n",
       "      <td>...</td>\n",
       "      <td>...</td>\n",
       "      <td>...</td>\n",
       "      <td>...</td>\n",
       "      <td>...</td>\n",
       "      <td>...</td>\n",
       "      <td>...</td>\n",
       "    </tr>\n",
       "    <tr>\n",
       "      <th>9326958</th>\n",
       "      <td>tt9916848</td>\n",
       "      <td>tvEpisode</td>\n",
       "      <td>Episode #3.17</td>\n",
       "      <td>Episode #3.17</td>\n",
       "      <td>0</td>\n",
       "      <td>2010</td>\n",
       "      <td>\\N</td>\n",
       "      <td>\\N</td>\n",
       "      <td>Action,Drama,Family</td>\n",
       "    </tr>\n",
       "    <tr>\n",
       "      <th>9326959</th>\n",
       "      <td>tt9916850</td>\n",
       "      <td>tvEpisode</td>\n",
       "      <td>Episode #3.19</td>\n",
       "      <td>Episode #3.19</td>\n",
       "      <td>0</td>\n",
       "      <td>2010</td>\n",
       "      <td>\\N</td>\n",
       "      <td>\\N</td>\n",
       "      <td>Action,Drama,Family</td>\n",
       "    </tr>\n",
       "    <tr>\n",
       "      <th>9326960</th>\n",
       "      <td>tt9916852</td>\n",
       "      <td>tvEpisode</td>\n",
       "      <td>Episode #3.20</td>\n",
       "      <td>Episode #3.20</td>\n",
       "      <td>0</td>\n",
       "      <td>2010</td>\n",
       "      <td>\\N</td>\n",
       "      <td>\\N</td>\n",
       "      <td>Action,Drama,Family</td>\n",
       "    </tr>\n",
       "    <tr>\n",
       "      <th>9326961</th>\n",
       "      <td>tt9916856</td>\n",
       "      <td>short</td>\n",
       "      <td>The Wind</td>\n",
       "      <td>The Wind</td>\n",
       "      <td>0</td>\n",
       "      <td>2015</td>\n",
       "      <td>\\N</td>\n",
       "      <td>27</td>\n",
       "      <td>Short</td>\n",
       "    </tr>\n",
       "    <tr>\n",
       "      <th>9326962</th>\n",
       "      <td>tt9916880</td>\n",
       "      <td>tvEpisode</td>\n",
       "      <td>Horrid Henry Knows It All</td>\n",
       "      <td>Horrid Henry Knows It All</td>\n",
       "      <td>0</td>\n",
       "      <td>2014</td>\n",
       "      <td>\\N</td>\n",
       "      <td>10</td>\n",
       "      <td>Adventure,Animation,Comedy</td>\n",
       "    </tr>\n",
       "  </tbody>\n",
       "</table>\n",
       "<p>9326963 rows × 9 columns</p>\n",
       "</div>"
      ],
      "text/plain": [
       "            tconst  titleType               primaryTitle  \\\n",
       "0        tt0000001      short                 Carmencita   \n",
       "1        tt0000002      short     Le clown et ses chiens   \n",
       "2        tt0000003      short             Pauvre Pierrot   \n",
       "3        tt0000004      short                Un bon bock   \n",
       "4        tt0000005      short           Blacksmith Scene   \n",
       "...            ...        ...                        ...   \n",
       "9326958  tt9916848  tvEpisode              Episode #3.17   \n",
       "9326959  tt9916850  tvEpisode              Episode #3.19   \n",
       "9326960  tt9916852  tvEpisode              Episode #3.20   \n",
       "9326961  tt9916856      short                   The Wind   \n",
       "9326962  tt9916880  tvEpisode  Horrid Henry Knows It All   \n",
       "\n",
       "                     originalTitle isAdult startYear endYear runtimeMinutes  \\\n",
       "0                       Carmencita       0      1894      \\N              1   \n",
       "1           Le clown et ses chiens       0      1892      \\N              5   \n",
       "2                   Pauvre Pierrot       0      1892      \\N              4   \n",
       "3                      Un bon bock       0      1892      \\N             12   \n",
       "4                 Blacksmith Scene       0      1893      \\N              1   \n",
       "...                            ...     ...       ...     ...            ...   \n",
       "9326958              Episode #3.17       0      2010      \\N             \\N   \n",
       "9326959              Episode #3.19       0      2010      \\N             \\N   \n",
       "9326960              Episode #3.20       0      2010      \\N             \\N   \n",
       "9326961                   The Wind       0      2015      \\N             27   \n",
       "9326962  Horrid Henry Knows It All       0      2014      \\N             10   \n",
       "\n",
       "                             genres  \n",
       "0                 Documentary,Short  \n",
       "1                   Animation,Short  \n",
       "2          Animation,Comedy,Romance  \n",
       "3                   Animation,Short  \n",
       "4                      Comedy,Short  \n",
       "...                             ...  \n",
       "9326958         Action,Drama,Family  \n",
       "9326959         Action,Drama,Family  \n",
       "9326960         Action,Drama,Family  \n",
       "9326961                       Short  \n",
       "9326962  Adventure,Animation,Comedy  \n",
       "\n",
       "[9326963 rows x 9 columns]"
      ]
     },
     "execution_count": 4,
     "metadata": {},
     "output_type": "execute_result"
    }
   ],
   "source": [
    "%%time\n",
    "basics"
   ]
  },
  {
   "cell_type": "code",
   "execution_count": 5,
   "id": "9b8f07f3",
   "metadata": {
    "ExecuteTime": {
     "end_time": "2022-10-27T01:04:21.357733Z",
     "start_time": "2022-10-27T01:03:01.275206Z"
    }
   },
   "outputs": [
    {
     "name": "stdout",
     "output_type": "stream",
     "text": [
      "CPU times: user 49 s, sys: 7.82 s, total: 56.8 s\n",
      "Wall time: 1min 20s\n"
     ]
    }
   ],
   "source": [
    "%%time\n",
    "akas = pd.read_csv(akas, sep='\\t', low_memory=False)"
   ]
  },
  {
   "cell_type": "code",
   "execution_count": 6,
   "id": "4f2ead91",
   "metadata": {
    "ExecuteTime": {
     "end_time": "2022-10-27T01:04:21.376542Z",
     "start_time": "2022-10-27T01:04:21.360723Z"
    }
   },
   "outputs": [
    {
     "name": "stdout",
     "output_type": "stream",
     "text": [
      "CPU times: user 3 µs, sys: 1e+03 ns, total: 4 µs\n",
      "Wall time: 6.91 µs\n"
     ]
    },
    {
     "data": {
      "text/html": [
       "<div>\n",
       "<style scoped>\n",
       "    .dataframe tbody tr th:only-of-type {\n",
       "        vertical-align: middle;\n",
       "    }\n",
       "\n",
       "    .dataframe tbody tr th {\n",
       "        vertical-align: top;\n",
       "    }\n",
       "\n",
       "    .dataframe thead th {\n",
       "        text-align: right;\n",
       "    }\n",
       "</style>\n",
       "<table border=\"1\" class=\"dataframe\">\n",
       "  <thead>\n",
       "    <tr style=\"text-align: right;\">\n",
       "      <th></th>\n",
       "      <th>titleId</th>\n",
       "      <th>ordering</th>\n",
       "      <th>title</th>\n",
       "      <th>region</th>\n",
       "      <th>language</th>\n",
       "      <th>types</th>\n",
       "      <th>attributes</th>\n",
       "      <th>isOriginalTitle</th>\n",
       "    </tr>\n",
       "  </thead>\n",
       "  <tbody>\n",
       "    <tr>\n",
       "      <th>0</th>\n",
       "      <td>tt0000001</td>\n",
       "      <td>1</td>\n",
       "      <td>Карменсіта</td>\n",
       "      <td>UA</td>\n",
       "      <td>\\N</td>\n",
       "      <td>imdbDisplay</td>\n",
       "      <td>\\N</td>\n",
       "      <td>0</td>\n",
       "    </tr>\n",
       "    <tr>\n",
       "      <th>1</th>\n",
       "      <td>tt0000001</td>\n",
       "      <td>2</td>\n",
       "      <td>Carmencita</td>\n",
       "      <td>DE</td>\n",
       "      <td>\\N</td>\n",
       "      <td>\\N</td>\n",
       "      <td>literal title</td>\n",
       "      <td>0</td>\n",
       "    </tr>\n",
       "    <tr>\n",
       "      <th>2</th>\n",
       "      <td>tt0000001</td>\n",
       "      <td>3</td>\n",
       "      <td>Carmencita - spanyol tánc</td>\n",
       "      <td>HU</td>\n",
       "      <td>\\N</td>\n",
       "      <td>imdbDisplay</td>\n",
       "      <td>\\N</td>\n",
       "      <td>0</td>\n",
       "    </tr>\n",
       "    <tr>\n",
       "      <th>3</th>\n",
       "      <td>tt0000001</td>\n",
       "      <td>4</td>\n",
       "      <td>Καρμενσίτα</td>\n",
       "      <td>GR</td>\n",
       "      <td>\\N</td>\n",
       "      <td>imdbDisplay</td>\n",
       "      <td>\\N</td>\n",
       "      <td>0</td>\n",
       "    </tr>\n",
       "    <tr>\n",
       "      <th>4</th>\n",
       "      <td>tt0000001</td>\n",
       "      <td>5</td>\n",
       "      <td>Карменсита</td>\n",
       "      <td>RU</td>\n",
       "      <td>\\N</td>\n",
       "      <td>imdbDisplay</td>\n",
       "      <td>\\N</td>\n",
       "      <td>0</td>\n",
       "    </tr>\n",
       "    <tr>\n",
       "      <th>...</th>\n",
       "      <td>...</td>\n",
       "      <td>...</td>\n",
       "      <td>...</td>\n",
       "      <td>...</td>\n",
       "      <td>...</td>\n",
       "      <td>...</td>\n",
       "      <td>...</td>\n",
       "      <td>...</td>\n",
       "    </tr>\n",
       "    <tr>\n",
       "      <th>33637395</th>\n",
       "      <td>tt9916852</td>\n",
       "      <td>5</td>\n",
       "      <td>Episódio #3.20</td>\n",
       "      <td>PT</td>\n",
       "      <td>pt</td>\n",
       "      <td>\\N</td>\n",
       "      <td>\\N</td>\n",
       "      <td>0</td>\n",
       "    </tr>\n",
       "    <tr>\n",
       "      <th>33637396</th>\n",
       "      <td>tt9916852</td>\n",
       "      <td>6</td>\n",
       "      <td>Episodio #3.20</td>\n",
       "      <td>IT</td>\n",
       "      <td>it</td>\n",
       "      <td>\\N</td>\n",
       "      <td>\\N</td>\n",
       "      <td>0</td>\n",
       "    </tr>\n",
       "    <tr>\n",
       "      <th>33637397</th>\n",
       "      <td>tt9916852</td>\n",
       "      <td>7</td>\n",
       "      <td>एपिसोड #3.20</td>\n",
       "      <td>IN</td>\n",
       "      <td>hi</td>\n",
       "      <td>\\N</td>\n",
       "      <td>\\N</td>\n",
       "      <td>0</td>\n",
       "    </tr>\n",
       "    <tr>\n",
       "      <th>33637398</th>\n",
       "      <td>tt9916856</td>\n",
       "      <td>1</td>\n",
       "      <td>The Wind</td>\n",
       "      <td>DE</td>\n",
       "      <td>\\N</td>\n",
       "      <td>imdbDisplay</td>\n",
       "      <td>\\N</td>\n",
       "      <td>0</td>\n",
       "    </tr>\n",
       "    <tr>\n",
       "      <th>33637399</th>\n",
       "      <td>tt9916856</td>\n",
       "      <td>2</td>\n",
       "      <td>The Wind</td>\n",
       "      <td>\\N</td>\n",
       "      <td>\\N</td>\n",
       "      <td>original</td>\n",
       "      <td>\\N</td>\n",
       "      <td>1</td>\n",
       "    </tr>\n",
       "  </tbody>\n",
       "</table>\n",
       "<p>33637400 rows × 8 columns</p>\n",
       "</div>"
      ],
      "text/plain": [
       "            titleId  ordering                      title region language  \\\n",
       "0         tt0000001         1                 Карменсіта     UA       \\N   \n",
       "1         tt0000001         2                 Carmencita     DE       \\N   \n",
       "2         tt0000001         3  Carmencita - spanyol tánc     HU       \\N   \n",
       "3         tt0000001         4                 Καρμενσίτα     GR       \\N   \n",
       "4         tt0000001         5                 Карменсита     RU       \\N   \n",
       "...             ...       ...                        ...    ...      ...   \n",
       "33637395  tt9916852         5             Episódio #3.20     PT       pt   \n",
       "33637396  tt9916852         6             Episodio #3.20     IT       it   \n",
       "33637397  tt9916852         7               एपिसोड #3.20     IN       hi   \n",
       "33637398  tt9916856         1                   The Wind     DE       \\N   \n",
       "33637399  tt9916856         2                   The Wind     \\N       \\N   \n",
       "\n",
       "                types     attributes isOriginalTitle  \n",
       "0         imdbDisplay             \\N               0  \n",
       "1                  \\N  literal title               0  \n",
       "2         imdbDisplay             \\N               0  \n",
       "3         imdbDisplay             \\N               0  \n",
       "4         imdbDisplay             \\N               0  \n",
       "...               ...            ...             ...  \n",
       "33637395           \\N             \\N               0  \n",
       "33637396           \\N             \\N               0  \n",
       "33637397           \\N             \\N               0  \n",
       "33637398  imdbDisplay             \\N               0  \n",
       "33637399     original             \\N               1  \n",
       "\n",
       "[33637400 rows x 8 columns]"
      ]
     },
     "execution_count": 6,
     "metadata": {},
     "output_type": "execute_result"
    }
   ],
   "source": [
    "%%time \n",
    "akas"
   ]
  },
  {
   "cell_type": "code",
   "execution_count": 7,
   "id": "768e8351",
   "metadata": {
    "ExecuteTime": {
     "end_time": "2022-10-27T01:04:23.327953Z",
     "start_time": "2022-10-27T01:04:21.379598Z"
    }
   },
   "outputs": [
    {
     "name": "stdout",
     "output_type": "stream",
     "text": [
      "CPU times: user 944 ms, sys: 195 ms, total: 1.14 s\n",
      "Wall time: 1.94 s\n"
     ]
    }
   ],
   "source": [
    "%%time\n",
    "ratings = pd.read_csv(ratings, sep='\\t', low_memory=False)"
   ]
  },
  {
   "cell_type": "code",
   "execution_count": 8,
   "id": "0ae48ef9",
   "metadata": {
    "ExecuteTime": {
     "end_time": "2022-10-27T01:04:23.349884Z",
     "start_time": "2022-10-27T01:04:23.332430Z"
    }
   },
   "outputs": [
    {
     "name": "stdout",
     "output_type": "stream",
     "text": [
      "CPU times: user 4 µs, sys: 2 µs, total: 6 µs\n",
      "Wall time: 11 µs\n"
     ]
    },
    {
     "data": {
      "text/html": [
       "<div>\n",
       "<style scoped>\n",
       "    .dataframe tbody tr th:only-of-type {\n",
       "        vertical-align: middle;\n",
       "    }\n",
       "\n",
       "    .dataframe tbody tr th {\n",
       "        vertical-align: top;\n",
       "    }\n",
       "\n",
       "    .dataframe thead th {\n",
       "        text-align: right;\n",
       "    }\n",
       "</style>\n",
       "<table border=\"1\" class=\"dataframe\">\n",
       "  <thead>\n",
       "    <tr style=\"text-align: right;\">\n",
       "      <th></th>\n",
       "      <th>tconst</th>\n",
       "      <th>averageRating</th>\n",
       "      <th>numVotes</th>\n",
       "    </tr>\n",
       "  </thead>\n",
       "  <tbody>\n",
       "    <tr>\n",
       "      <th>0</th>\n",
       "      <td>tt0000001</td>\n",
       "      <td>5.7</td>\n",
       "      <td>1920</td>\n",
       "    </tr>\n",
       "    <tr>\n",
       "      <th>1</th>\n",
       "      <td>tt0000002</td>\n",
       "      <td>5.8</td>\n",
       "      <td>260</td>\n",
       "    </tr>\n",
       "    <tr>\n",
       "      <th>2</th>\n",
       "      <td>tt0000003</td>\n",
       "      <td>6.5</td>\n",
       "      <td>1728</td>\n",
       "    </tr>\n",
       "    <tr>\n",
       "      <th>3</th>\n",
       "      <td>tt0000004</td>\n",
       "      <td>5.6</td>\n",
       "      <td>173</td>\n",
       "    </tr>\n",
       "    <tr>\n",
       "      <th>4</th>\n",
       "      <td>tt0000005</td>\n",
       "      <td>6.2</td>\n",
       "      <td>2541</td>\n",
       "    </tr>\n",
       "    <tr>\n",
       "      <th>...</th>\n",
       "      <td>...</td>\n",
       "      <td>...</td>\n",
       "      <td>...</td>\n",
       "    </tr>\n",
       "    <tr>\n",
       "      <th>1241482</th>\n",
       "      <td>tt9916690</td>\n",
       "      <td>7.4</td>\n",
       "      <td>6</td>\n",
       "    </tr>\n",
       "    <tr>\n",
       "      <th>1241483</th>\n",
       "      <td>tt9916720</td>\n",
       "      <td>5.3</td>\n",
       "      <td>270</td>\n",
       "    </tr>\n",
       "    <tr>\n",
       "      <th>1241484</th>\n",
       "      <td>tt9916730</td>\n",
       "      <td>9.0</td>\n",
       "      <td>6</td>\n",
       "    </tr>\n",
       "    <tr>\n",
       "      <th>1241485</th>\n",
       "      <td>tt9916766</td>\n",
       "      <td>6.7</td>\n",
       "      <td>21</td>\n",
       "    </tr>\n",
       "    <tr>\n",
       "      <th>1241486</th>\n",
       "      <td>tt9916778</td>\n",
       "      <td>7.3</td>\n",
       "      <td>35</td>\n",
       "    </tr>\n",
       "  </tbody>\n",
       "</table>\n",
       "<p>1241487 rows × 3 columns</p>\n",
       "</div>"
      ],
      "text/plain": [
       "            tconst  averageRating  numVotes\n",
       "0        tt0000001            5.7      1920\n",
       "1        tt0000002            5.8       260\n",
       "2        tt0000003            6.5      1728\n",
       "3        tt0000004            5.6       173\n",
       "4        tt0000005            6.2      2541\n",
       "...            ...            ...       ...\n",
       "1241482  tt9916690            7.4         6\n",
       "1241483  tt9916720            5.3       270\n",
       "1241484  tt9916730            9.0         6\n",
       "1241485  tt9916766            6.7        21\n",
       "1241486  tt9916778            7.3        35\n",
       "\n",
       "[1241487 rows x 3 columns]"
      ]
     },
     "execution_count": 8,
     "metadata": {},
     "output_type": "execute_result"
    }
   ],
   "source": [
    "%%time\n",
    "ratings "
   ]
  },
  {
   "cell_type": "code",
   "execution_count": 9,
   "id": "b82f46dd",
   "metadata": {
    "ExecuteTime": {
     "end_time": "2022-10-27T01:04:23.374022Z",
     "start_time": "2022-10-27T01:04:23.360853Z"
    }
   },
   "outputs": [
    {
     "name": "stdout",
     "output_type": "stream",
     "text": [
      "<class 'pandas.core.frame.DataFrame'>\n",
      "RangeIndex: 9326963 entries, 0 to 9326962\n",
      "Data columns (total 9 columns):\n",
      " #   Column          Dtype \n",
      "---  ------          ----- \n",
      " 0   tconst          object\n",
      " 1   titleType       object\n",
      " 2   primaryTitle    object\n",
      " 3   originalTitle   object\n",
      " 4   isAdult         object\n",
      " 5   startYear       object\n",
      " 6   endYear         object\n",
      " 7   runtimeMinutes  object\n",
      " 8   genres          object\n",
      "dtypes: object(9)\n",
      "memory usage: 640.4+ MB\n",
      "CPU times: user 7.24 ms, sys: 583 µs, total: 7.83 ms\n",
      "Wall time: 7.7 ms\n"
     ]
    }
   ],
   "source": [
    "%%time\n",
    "basics.info()"
   ]
  },
  {
   "cell_type": "code",
   "execution_count": 10,
   "id": "ad113bd5",
   "metadata": {
    "ExecuteTime": {
     "end_time": "2022-10-27T01:04:46.055327Z",
     "start_time": "2022-10-27T01:04:23.377518Z"
    }
   },
   "outputs": [
    {
     "data": {
      "text/plain": [
       "0"
      ]
     },
     "execution_count": 10,
     "metadata": {},
     "output_type": "execute_result"
    }
   ],
   "source": [
    "basics.duplicated().sum()"
   ]
  },
  {
   "cell_type": "code",
   "execution_count": 11,
   "id": "d551542b",
   "metadata": {
    "ExecuteTime": {
     "end_time": "2022-10-27T01:05:02.948338Z",
     "start_time": "2022-10-27T01:04:46.057782Z"
    }
   },
   "outputs": [
    {
     "name": "stdout",
     "output_type": "stream",
     "text": [
      "CPU times: user 15.5 s, sys: 1.26 s, total: 16.8 s\n",
      "Wall time: 16.9 s\n"
     ]
    }
   ],
   "source": [
    "%%time\n",
    "basics.replace({'\\\\N':np.nan}, inplace=True)"
   ]
  },
  {
   "cell_type": "code",
   "execution_count": 12,
   "id": "f813edfe",
   "metadata": {
    "ExecuteTime": {
     "end_time": "2022-10-27T01:05:02.964650Z",
     "start_time": "2022-10-27T01:05:02.951240Z"
    }
   },
   "outputs": [
    {
     "name": "stdout",
     "output_type": "stream",
     "text": [
      "<class 'pandas.core.frame.DataFrame'>\n",
      "RangeIndex: 9326963 entries, 0 to 9326962\n",
      "Data columns (total 9 columns):\n",
      " #   Column          Dtype \n",
      "---  ------          ----- \n",
      " 0   tconst          object\n",
      " 1   titleType       object\n",
      " 2   primaryTitle    object\n",
      " 3   originalTitle   object\n",
      " 4   isAdult         object\n",
      " 5   startYear       object\n",
      " 6   endYear         object\n",
      " 7   runtimeMinutes  object\n",
      " 8   genres          object\n",
      "dtypes: object(9)\n",
      "memory usage: 640.4+ MB\n"
     ]
    }
   ],
   "source": [
    "basics.info()"
   ]
  },
  {
   "cell_type": "code",
   "execution_count": 13,
   "id": "72f69382",
   "metadata": {
    "ExecuteTime": {
     "end_time": "2022-10-27T01:05:13.962900Z",
     "start_time": "2022-10-27T01:05:03.001592Z"
    }
   },
   "outputs": [
    {
     "name": "stdout",
     "output_type": "stream",
     "text": [
      "CPU times: user 10.8 s, sys: 125 ms, total: 10.9 s\n",
      "Wall time: 10.9 s\n"
     ]
    },
    {
     "data": {
      "text/plain": [
       "tconst                  0\n",
       "titleType               0\n",
       "primaryTitle           11\n",
       "originalTitle          11\n",
       "isAdult                 1\n",
       "startYear         1248968\n",
       "endYear           9229165\n",
       "runtimeMinutes    6782099\n",
       "genres             430198\n",
       "dtype: int64"
      ]
     },
     "execution_count": 13,
     "metadata": {},
     "output_type": "execute_result"
    }
   ],
   "source": [
    "%%time\n",
    "basics.isnull().sum()"
   ]
  },
  {
   "cell_type": "markdown",
   "id": "22b7ddf0",
   "metadata": {},
   "source": [
    "## Eliminate movies that are null for runtimeMinutes\n"
   ]
  },
  {
   "cell_type": "code",
   "execution_count": 14,
   "id": "ce20a86b",
   "metadata": {
    "ExecuteTime": {
     "end_time": "2022-10-27T01:05:16.236187Z",
     "start_time": "2022-10-27T01:05:13.966062Z"
    }
   },
   "outputs": [],
   "source": [
    "basics.dropna(subset=['runtimeMinutes'], inplace=True)"
   ]
  },
  {
   "cell_type": "code",
   "execution_count": 15,
   "id": "a737dd34",
   "metadata": {
    "ExecuteTime": {
     "end_time": "2022-10-27T01:05:19.950565Z",
     "start_time": "2022-10-27T01:05:16.239780Z"
    }
   },
   "outputs": [
    {
     "name": "stdout",
     "output_type": "stream",
     "text": [
      "CPU times: user 3.5 s, sys: 57.6 ms, total: 3.55 s\n",
      "Wall time: 3.7 s\n"
     ]
    },
    {
     "data": {
      "text/plain": [
       "tconst                  0\n",
       "titleType               0\n",
       "primaryTitle            1\n",
       "originalTitle           1\n",
       "isAdult                 1\n",
       "startYear           59560\n",
       "endYear           2497186\n",
       "runtimeMinutes          0\n",
       "genres              67990\n",
       "dtype: int64"
      ]
     },
     "execution_count": 15,
     "metadata": {},
     "output_type": "execute_result"
    }
   ],
   "source": [
    "%%time\n",
    "basics.isnull().sum()"
   ]
  },
  {
   "cell_type": "code",
   "execution_count": 16,
   "id": "fe11079a",
   "metadata": {
    "ExecuteTime": {
     "end_time": "2022-10-27T01:05:21.015368Z",
     "start_time": "2022-10-27T01:05:19.953802Z"
    }
   },
   "outputs": [],
   "source": [
    "basics.dropna(subset=['genres'], inplace=True)"
   ]
  },
  {
   "cell_type": "code",
   "execution_count": 17,
   "id": "2fc48c52",
   "metadata": {
    "ExecuteTime": {
     "end_time": "2022-10-27T01:05:24.485679Z",
     "start_time": "2022-10-27T01:05:21.043658Z"
    }
   },
   "outputs": [
    {
     "name": "stdout",
     "output_type": "stream",
     "text": [
      "CPU times: user 3.33 s, sys: 50.6 ms, total: 3.38 s\n",
      "Wall time: 3.43 s\n"
     ]
    },
    {
     "data": {
      "text/plain": [
       "tconst                  0\n",
       "titleType               0\n",
       "primaryTitle            1\n",
       "originalTitle           1\n",
       "isAdult                 0\n",
       "startYear           58220\n",
       "endYear           2430759\n",
       "runtimeMinutes          0\n",
       "genres                  0\n",
       "dtype: int64"
      ]
     },
     "execution_count": 17,
     "metadata": {},
     "output_type": "execute_result"
    }
   ],
   "source": [
    "%%time\n",
    "basics.isnull().sum()"
   ]
  },
  {
   "cell_type": "markdown",
   "id": "8bab5125",
   "metadata": {},
   "source": [
    "#  keep only titleType==Movie"
   ]
  },
  {
   "cell_type": "code",
   "execution_count": 18,
   "id": "33514b89",
   "metadata": {
    "ExecuteTime": {
     "end_time": "2022-10-27T01:05:24.713666Z",
     "start_time": "2022-10-27T01:05:24.488747Z"
    }
   },
   "outputs": [],
   "source": [
    "movie = basics['titleType'] == 'movie'\n",
    "basics = basics[movie]"
   ]
  },
  {
   "cell_type": "code",
   "execution_count": 19,
   "id": "8f9c8f14",
   "metadata": {
    "ExecuteTime": {
     "end_time": "2022-10-27T01:05:25.232832Z",
     "start_time": "2022-10-27T01:05:24.716345Z"
    }
   },
   "outputs": [
    {
     "name": "stdout",
     "output_type": "stream",
     "text": [
      "<class 'pandas.core.frame.DataFrame'>\n",
      "Int64Index: 370737 entries, 8 to 9326913\n",
      "Data columns (total 9 columns):\n",
      " #   Column          Non-Null Count   Dtype \n",
      "---  ------          --------------   ----- \n",
      " 0   tconst          370737 non-null  object\n",
      " 1   titleType       370737 non-null  object\n",
      " 2   primaryTitle    370737 non-null  object\n",
      " 3   originalTitle   370737 non-null  object\n",
      " 4   isAdult         370737 non-null  object\n",
      " 5   startYear       364813 non-null  object\n",
      " 6   endYear         0 non-null       object\n",
      " 7   runtimeMinutes  370737 non-null  object\n",
      " 8   genres          370737 non-null  object\n",
      "dtypes: object(9)\n",
      "memory usage: 28.3+ MB\n"
     ]
    }
   ],
   "source": [
    "basics.info()"
   ]
  },
  {
   "cell_type": "markdown",
   "id": "f92354a7",
   "metadata": {},
   "source": [
    "### keep startYear 2000-2022\n",
    "\n"
   ]
  },
  {
   "cell_type": "code",
   "execution_count": 20,
   "id": "61d49579",
   "metadata": {
    "ExecuteTime": {
     "end_time": "2022-10-27T01:05:25.769856Z",
     "start_time": "2022-10-27T01:05:25.234963Z"
    }
   },
   "outputs": [
    {
     "name": "stderr",
     "output_type": "stream",
     "text": [
      "/var/folders/m_/dfy7jmxs4_xdvc_jdvxfvxmh0000gn/T/ipykernel_56345/2626350886.py:2: SettingWithCopyWarning: \n",
      "A value is trying to be set on a copy of a slice from a DataFrame.\n",
      "Try using .loc[row_indexer,col_indexer] = value instead\n",
      "\n",
      "See the caveats in the documentation: https://pandas.pydata.org/pandas-docs/stable/user_guide/indexing.html#returning-a-view-versus-a-copy\n",
      "  basics['startYear'] = pd.to_numeric(basics['startYear'])\n"
     ]
    }
   ],
   "source": [
    "#Convert column to a numeric column \n",
    "basics['startYear'] = pd.to_numeric(basics['startYear'])"
   ]
  },
  {
   "cell_type": "markdown",
   "id": "19846447",
   "metadata": {},
   "source": [
    "## keep startYear 2000-2022\n"
   ]
  },
  {
   "cell_type": "code",
   "execution_count": 21,
   "id": "91a7b364",
   "metadata": {
    "ExecuteTime": {
     "end_time": "2022-10-27T01:05:25.780667Z",
     "start_time": "2022-10-27T01:05:25.773596Z"
    }
   },
   "outputs": [],
   "source": [
    "year20 = basics['startYear'] >=2000 \n",
    "\n",
    "year22 = basics['startYear'] <= 2022"
   ]
  },
  {
   "cell_type": "code",
   "execution_count": 22,
   "id": "7f3f991d",
   "metadata": {
    "ExecuteTime": {
     "end_time": "2022-10-27T01:05:25.867450Z",
     "start_time": "2022-10-27T01:05:25.785003Z"
    }
   },
   "outputs": [],
   "source": [
    "basics = basics[year20 & year22]"
   ]
  },
  {
   "cell_type": "code",
   "execution_count": 23,
   "id": "0a62fff6",
   "metadata": {
    "ExecuteTime": {
     "end_time": "2022-10-27T01:05:26.166747Z",
     "start_time": "2022-10-27T01:05:25.870856Z"
    }
   },
   "outputs": [
    {
     "name": "stdout",
     "output_type": "stream",
     "text": [
      "<class 'pandas.core.frame.DataFrame'>\n",
      "Int64Index: 218063 entries, 13079 to 9326913\n",
      "Data columns (total 9 columns):\n",
      " #   Column          Non-Null Count   Dtype  \n",
      "---  ------          --------------   -----  \n",
      " 0   tconst          218063 non-null  object \n",
      " 1   titleType       218063 non-null  object \n",
      " 2   primaryTitle    218063 non-null  object \n",
      " 3   originalTitle   218063 non-null  object \n",
      " 4   isAdult         218063 non-null  object \n",
      " 5   startYear       218063 non-null  float64\n",
      " 6   endYear         0 non-null       object \n",
      " 7   runtimeMinutes  218063 non-null  object \n",
      " 8   genres          218063 non-null  object \n",
      "dtypes: float64(1), object(8)\n",
      "memory usage: 16.6+ MB\n"
     ]
    }
   ],
   "source": [
    "#check that Startyear was converted from an object Dtype to a numeric Dtype \n",
    "basics.info()"
   ]
  },
  {
   "cell_type": "code",
   "execution_count": 24,
   "id": "f723a044",
   "metadata": {
    "ExecuteTime": {
     "end_time": "2022-10-27T01:05:26.176591Z",
     "start_time": "2022-10-27T01:05:26.170531Z"
    }
   },
   "outputs": [
    {
     "data": {
      "text/plain": [
       "13079      2021.0\n",
       "34793      2001.0\n",
       "61095      2020.0\n",
       "66310      2006.0\n",
       "67641      2018.0\n",
       "            ...  \n",
       "9326728    2020.0\n",
       "9326812    2019.0\n",
       "9326853    2015.0\n",
       "9326880    2007.0\n",
       "9326913    2013.0\n",
       "Name: startYear, Length: 218063, dtype: float64"
      ]
     },
     "execution_count": 24,
     "metadata": {},
     "output_type": "execute_result"
    }
   ],
   "source": [
    "basics['startYear']"
   ]
  },
  {
   "cell_type": "markdown",
   "id": "0aa1af11",
   "metadata": {},
   "source": [
    "### Include only fictional movies (not from documentary genre)\n"
   ]
  },
  {
   "cell_type": "code",
   "execution_count": 25,
   "id": "043d1593",
   "metadata": {
    "ExecuteTime": {
     "end_time": "2022-10-27T01:05:26.575263Z",
     "start_time": "2022-10-27T01:05:26.180309Z"
    }
   },
   "outputs": [
    {
     "name": "stdout",
     "output_type": "stream",
     "text": [
      "<class 'pandas.core.frame.DataFrame'>\n",
      "Int64Index: 144302 entries, 34793 to 9326812\n",
      "Data columns (total 9 columns):\n",
      " #   Column          Non-Null Count   Dtype  \n",
      "---  ------          --------------   -----  \n",
      " 0   tconst          144302 non-null  object \n",
      " 1   titleType       144302 non-null  object \n",
      " 2   primaryTitle    144302 non-null  object \n",
      " 3   originalTitle   144302 non-null  object \n",
      " 4   isAdult         144302 non-null  object \n",
      " 5   startYear       144302 non-null  float64\n",
      " 6   endYear         0 non-null       object \n",
      " 7   runtimeMinutes  144302 non-null  object \n",
      " 8   genres          144302 non-null  object \n",
      "dtypes: float64(1), object(8)\n",
      "memory usage: 11.0+ MB\n"
     ]
    }
   ],
   "source": [
    "basics = basics[basics['genres'].str.contains(\"documentary\",case = False) == False]\n",
    "basics.info()"
   ]
  },
  {
   "cell_type": "code",
   "execution_count": 26,
   "id": "1d21e057",
   "metadata": {
    "ExecuteTime": {
     "end_time": "2022-10-27T01:05:26.583033Z",
     "start_time": "2022-10-27T01:05:26.578694Z"
    }
   },
   "outputs": [],
   "source": [
    "#doc = basics['genres'].str.contains('documentary',case=False)\n",
    "#basics = basics[doc]\n",
    "\n",
    "#basics.info()\n",
    "#basics.head()"
   ]
  },
  {
   "cell_type": "code",
   "execution_count": 27,
   "id": "50862165",
   "metadata": {
    "ExecuteTime": {
     "end_time": "2022-10-27T01:05:26.609664Z",
     "start_time": "2022-10-27T01:05:26.595465Z"
    }
   },
   "outputs": [
    {
     "name": "stdout",
     "output_type": "stream",
     "text": [
      "<class 'pandas.core.frame.DataFrame'>\n",
      "RangeIndex: 33637400 entries, 0 to 33637399\n",
      "Data columns (total 8 columns):\n",
      " #   Column           Dtype \n",
      "---  ------           ----- \n",
      " 0   titleId          object\n",
      " 1   ordering         int64 \n",
      " 2   title            object\n",
      " 3   region           object\n",
      " 4   language         object\n",
      " 5   types            object\n",
      " 6   attributes       object\n",
      " 7   isOriginalTitle  object\n",
      "dtypes: int64(1), object(7)\n",
      "memory usage: 2.0+ GB\n",
      "CPU times: user 8.63 ms, sys: 662 µs, total: 9.3 ms\n",
      "Wall time: 9.49 ms\n"
     ]
    }
   ],
   "source": [
    "%%time\n",
    "akas.info()"
   ]
  },
  {
   "cell_type": "code",
   "execution_count": 28,
   "id": "9ebbdcf3",
   "metadata": {
    "ExecuteTime": {
     "end_time": "2022-10-27T01:05:28.411543Z",
     "start_time": "2022-10-27T01:05:26.612676Z"
    }
   },
   "outputs": [
    {
     "data": {
      "text/plain": [
       "JP    4015541\n",
       "FR    4014312\n",
       "DE    4011646\n",
       "IN    3946435\n",
       "ES    3937293\n",
       "       ...   \n",
       "CC          1\n",
       "TV          1\n",
       "NU          1\n",
       "PW          1\n",
       "NR          1\n",
       "Name: region, Length: 248, dtype: int64"
      ]
     },
     "execution_count": 28,
     "metadata": {},
     "output_type": "execute_result"
    }
   ],
   "source": [
    "akas['region'].value_counts()"
   ]
  },
  {
   "cell_type": "code",
   "execution_count": 29,
   "id": "e94557ab",
   "metadata": {
    "ExecuteTime": {
     "end_time": "2022-10-27T01:05:29.957756Z",
     "start_time": "2022-10-27T01:05:28.419578Z"
    }
   },
   "outputs": [
    {
     "data": {
      "text/plain": [
       "\\N     6328720\n",
       "ja     3883623\n",
       "fr     3847842\n",
       "hi     3821448\n",
       "es     3795968\n",
       "        ...   \n",
       "rm           1\n",
       "roa          1\n",
       "rn           1\n",
       "eka          1\n",
       "cr           1\n",
       "Name: language, Length: 107, dtype: int64"
      ]
     },
     "execution_count": 29,
     "metadata": {},
     "output_type": "execute_result"
    }
   ],
   "source": [
    "akas['language'].value_counts()"
   ]
  },
  {
   "cell_type": "code",
   "execution_count": 30,
   "id": "ad98e251",
   "metadata": {
    "ExecuteTime": {
     "end_time": "2022-10-27T01:06:16.746480Z",
     "start_time": "2022-10-27T01:05:29.961569Z"
    }
   },
   "outputs": [],
   "source": [
    "#replace null values \n",
    "akas.replace({'\\\\N':np.nan}, inplace=True)\n"
   ]
  },
  {
   "cell_type": "code",
   "execution_count": 31,
   "id": "986e6356",
   "metadata": {
    "ExecuteTime": {
     "end_time": "2022-10-27T01:06:16.761228Z",
     "start_time": "2022-10-27T01:06:16.748826Z"
    }
   },
   "outputs": [
    {
     "data": {
      "text/html": [
       "<div>\n",
       "<style scoped>\n",
       "    .dataframe tbody tr th:only-of-type {\n",
       "        vertical-align: middle;\n",
       "    }\n",
       "\n",
       "    .dataframe tbody tr th {\n",
       "        vertical-align: top;\n",
       "    }\n",
       "\n",
       "    .dataframe thead th {\n",
       "        text-align: right;\n",
       "    }\n",
       "</style>\n",
       "<table border=\"1\" class=\"dataframe\">\n",
       "  <thead>\n",
       "    <tr style=\"text-align: right;\">\n",
       "      <th></th>\n",
       "      <th>titleId</th>\n",
       "      <th>ordering</th>\n",
       "      <th>title</th>\n",
       "      <th>region</th>\n",
       "      <th>language</th>\n",
       "      <th>types</th>\n",
       "      <th>attributes</th>\n",
       "      <th>isOriginalTitle</th>\n",
       "    </tr>\n",
       "  </thead>\n",
       "  <tbody>\n",
       "    <tr>\n",
       "      <th>0</th>\n",
       "      <td>tt0000001</td>\n",
       "      <td>1</td>\n",
       "      <td>Карменсіта</td>\n",
       "      <td>UA</td>\n",
       "      <td>NaN</td>\n",
       "      <td>imdbDisplay</td>\n",
       "      <td>NaN</td>\n",
       "      <td>0</td>\n",
       "    </tr>\n",
       "    <tr>\n",
       "      <th>1</th>\n",
       "      <td>tt0000001</td>\n",
       "      <td>2</td>\n",
       "      <td>Carmencita</td>\n",
       "      <td>DE</td>\n",
       "      <td>NaN</td>\n",
       "      <td>NaN</td>\n",
       "      <td>literal title</td>\n",
       "      <td>0</td>\n",
       "    </tr>\n",
       "    <tr>\n",
       "      <th>2</th>\n",
       "      <td>tt0000001</td>\n",
       "      <td>3</td>\n",
       "      <td>Carmencita - spanyol tánc</td>\n",
       "      <td>HU</td>\n",
       "      <td>NaN</td>\n",
       "      <td>imdbDisplay</td>\n",
       "      <td>NaN</td>\n",
       "      <td>0</td>\n",
       "    </tr>\n",
       "    <tr>\n",
       "      <th>3</th>\n",
       "      <td>tt0000001</td>\n",
       "      <td>4</td>\n",
       "      <td>Καρμενσίτα</td>\n",
       "      <td>GR</td>\n",
       "      <td>NaN</td>\n",
       "      <td>imdbDisplay</td>\n",
       "      <td>NaN</td>\n",
       "      <td>0</td>\n",
       "    </tr>\n",
       "    <tr>\n",
       "      <th>4</th>\n",
       "      <td>tt0000001</td>\n",
       "      <td>5</td>\n",
       "      <td>Карменсита</td>\n",
       "      <td>RU</td>\n",
       "      <td>NaN</td>\n",
       "      <td>imdbDisplay</td>\n",
       "      <td>NaN</td>\n",
       "      <td>0</td>\n",
       "    </tr>\n",
       "  </tbody>\n",
       "</table>\n",
       "</div>"
      ],
      "text/plain": [
       "     titleId  ordering                      title region language  \\\n",
       "0  tt0000001         1                 Карменсіта     UA      NaN   \n",
       "1  tt0000001         2                 Carmencita     DE      NaN   \n",
       "2  tt0000001         3  Carmencita - spanyol tánc     HU      NaN   \n",
       "3  tt0000001         4                 Καρμενσίτα     GR      NaN   \n",
       "4  tt0000001         5                 Карменсита     RU      NaN   \n",
       "\n",
       "         types     attributes isOriginalTitle  \n",
       "0  imdbDisplay            NaN               0  \n",
       "1          NaN  literal title               0  \n",
       "2  imdbDisplay            NaN               0  \n",
       "3  imdbDisplay            NaN               0  \n",
       "4  imdbDisplay            NaN               0  "
      ]
     },
     "execution_count": 31,
     "metadata": {},
     "output_type": "execute_result"
    }
   ],
   "source": [
    "akas.head()"
   ]
  },
  {
   "cell_type": "code",
   "execution_count": 32,
   "id": "69a82986",
   "metadata": {
    "ExecuteTime": {
     "end_time": "2022-10-27T01:06:18.927528Z",
     "start_time": "2022-10-27T01:06:16.764002Z"
    }
   },
   "outputs": [],
   "source": [
    "akas = akas.loc[akas['region'] == 'US']"
   ]
  },
  {
   "cell_type": "code",
   "execution_count": null,
   "id": "01a4e6db",
   "metadata": {},
   "outputs": [],
   "source": []
  },
  {
   "cell_type": "code",
   "execution_count": 33,
   "id": "e67503a1",
   "metadata": {
    "ExecuteTime": {
     "end_time": "2022-10-27T01:06:19.117940Z",
     "start_time": "2022-10-27T01:06:18.930298Z"
    }
   },
   "outputs": [
    {
     "name": "stdout",
     "output_type": "stream",
     "text": [
      "<class 'pandas.core.frame.DataFrame'>\n",
      "RangeIndex: 1241487 entries, 0 to 1241486\n",
      "Data columns (total 3 columns):\n",
      " #   Column         Non-Null Count    Dtype  \n",
      "---  ------         --------------    -----  \n",
      " 0   tconst         1241487 non-null  object \n",
      " 1   averageRating  1241487 non-null  float64\n",
      " 2   numVotes       1241487 non-null  int64  \n",
      "dtypes: float64(1), int64(1), object(1)\n",
      "memory usage: 28.4+ MB\n",
      "CPU times: user 181 ms, sys: 4.5 ms, total: 185 ms\n",
      "Wall time: 184 ms\n"
     ]
    }
   ],
   "source": [
    "%%time \n",
    "ratings.info()"
   ]
  },
  {
   "cell_type": "code",
   "execution_count": 34,
   "id": "3b9d31ea",
   "metadata": {
    "ExecuteTime": {
     "end_time": "2022-10-27T01:06:19.333503Z",
     "start_time": "2022-10-27T01:06:19.121653Z"
    }
   },
   "outputs": [],
   "source": [
    "#replace null values \n",
    "ratings.replace({'\\\\N':np.nan}, inplace=True)"
   ]
  },
  {
   "cell_type": "code",
   "execution_count": 35,
   "id": "33dbfbd0",
   "metadata": {
    "ExecuteTime": {
     "end_time": "2022-10-27T01:06:20.620261Z",
     "start_time": "2022-10-27T01:06:19.335647Z"
    }
   },
   "outputs": [
    {
     "name": "stdout",
     "output_type": "stream",
     "text": [
      "<class 'pandas.core.frame.DataFrame'>\n",
      "Int64Index: 1362614 entries, 5 to 33637144\n",
      "Data columns (total 8 columns):\n",
      " #   Column           Non-Null Count    Dtype \n",
      "---  ------           --------------    ----- \n",
      " 0   titleId          1362614 non-null  object\n",
      " 1   ordering         1362614 non-null  int64 \n",
      " 2   title            1362614 non-null  object\n",
      " 3   region           1362614 non-null  object\n",
      " 4   language         3704 non-null     object\n",
      " 5   types            965225 non-null   object\n",
      " 6   attributes       45242 non-null    object\n",
      " 7   isOriginalTitle  1361239 non-null  object\n",
      "dtypes: int64(1), object(7)\n",
      "memory usage: 93.6+ MB\n"
     ]
    }
   ],
   "source": [
    "akas.info()"
   ]
  },
  {
   "cell_type": "code",
   "execution_count": 36,
   "id": "13e30576",
   "metadata": {
    "ExecuteTime": {
     "end_time": "2022-10-27T01:06:20.811391Z",
     "start_time": "2022-10-27T01:06:20.622674Z"
    }
   },
   "outputs": [
    {
     "name": "stdout",
     "output_type": "stream",
     "text": [
      "<class 'pandas.core.frame.DataFrame'>\n",
      "RangeIndex: 1241487 entries, 0 to 1241486\n",
      "Data columns (total 3 columns):\n",
      " #   Column         Non-Null Count    Dtype  \n",
      "---  ------         --------------    -----  \n",
      " 0   tconst         1241487 non-null  object \n",
      " 1   averageRating  1241487 non-null  float64\n",
      " 2   numVotes       1241487 non-null  int64  \n",
      "dtypes: float64(1), int64(1), object(1)\n",
      "memory usage: 28.4+ MB\n"
     ]
    }
   ],
   "source": [
    "ratings.info()"
   ]
  },
  {
   "cell_type": "code",
   "execution_count": 37,
   "id": "b0de17d1",
   "metadata": {
    "ExecuteTime": {
     "end_time": "2022-10-27T01:06:21.008798Z",
     "start_time": "2022-10-27T01:06:20.813551Z"
    }
   },
   "outputs": [
    {
     "name": "stdout",
     "output_type": "stream",
     "text": [
      "<class 'pandas.core.frame.DataFrame'>\n",
      "Int64Index: 144302 entries, 34793 to 9326812\n",
      "Data columns (total 9 columns):\n",
      " #   Column          Non-Null Count   Dtype  \n",
      "---  ------          --------------   -----  \n",
      " 0   tconst          144302 non-null  object \n",
      " 1   titleType       144302 non-null  object \n",
      " 2   primaryTitle    144302 non-null  object \n",
      " 3   originalTitle   144302 non-null  object \n",
      " 4   isAdult         144302 non-null  object \n",
      " 5   startYear       144302 non-null  float64\n",
      " 6   endYear         0 non-null       object \n",
      " 7   runtimeMinutes  144302 non-null  object \n",
      " 8   genres          144302 non-null  object \n",
      "dtypes: float64(1), object(8)\n",
      "memory usage: 11.0+ MB\n"
     ]
    }
   ],
   "source": [
    "basics.info()"
   ]
  },
  {
   "cell_type": "markdown",
   "id": "1ee0d250",
   "metadata": {},
   "source": [
    "### Include only movies that were released in the United States\n"
   ]
  },
  {
   "cell_type": "code",
   "execution_count": 38,
   "id": "761482b1",
   "metadata": {
    "ExecuteTime": {
     "end_time": "2022-10-27T01:06:21.484574Z",
     "start_time": "2022-10-27T01:06:21.010984Z"
    }
   },
   "outputs": [
    {
     "name": "stdout",
     "output_type": "stream",
     "text": [
      "<class 'pandas.core.frame.DataFrame'>\n",
      "Int64Index: 83132 entries, 34793 to 9326728\n",
      "Data columns (total 9 columns):\n",
      " #   Column          Non-Null Count  Dtype  \n",
      "---  ------          --------------  -----  \n",
      " 0   tconst          83132 non-null  object \n",
      " 1   titleType       83132 non-null  object \n",
      " 2   primaryTitle    83132 non-null  object \n",
      " 3   originalTitle   83132 non-null  object \n",
      " 4   isAdult         83132 non-null  object \n",
      " 5   startYear       83132 non-null  float64\n",
      " 6   endYear         0 non-null      object \n",
      " 7   runtimeMinutes  83132 non-null  object \n",
      " 8   genres          83132 non-null  object \n",
      "dtypes: float64(1), object(8)\n",
      "memory usage: 6.3+ MB\n"
     ]
    }
   ],
   "source": [
    "#  I will use the Title ID column from the akas Dataset to deetermine if the movie is \n",
    "us_movies = basics['tconst'].isin(akas['titleId'])\n",
    "basics = basics[us_movies]\n",
    "\n",
    "basics.info()"
   ]
  },
  {
   "cell_type": "code",
   "execution_count": 39,
   "id": "70651f86",
   "metadata": {
    "ExecuteTime": {
     "end_time": "2022-10-27T01:06:21.490212Z",
     "start_time": "2022-10-27T01:06:21.487506Z"
    }
   },
   "outputs": [],
   "source": [
    "df = basics"
   ]
  },
  {
   "cell_type": "code",
   "execution_count": 40,
   "id": "1b8569e9",
   "metadata": {
    "ExecuteTime": {
     "end_time": "2022-10-27T01:06:22.908059Z",
     "start_time": "2022-10-27T01:06:21.492672Z"
    }
   },
   "outputs": [],
   "source": [
    "basic_csv = df.to_csv(\"Data/basics.csv.gz\", \n",
    "           index=False, \n",
    "           compression=\"gzip\")"
   ]
  },
  {
   "cell_type": "code",
   "execution_count": 41,
   "id": "71c14194",
   "metadata": {
    "ExecuteTime": {
     "end_time": "2022-10-27T01:06:22.913083Z",
     "start_time": "2022-10-27T01:06:22.910258Z"
    }
   },
   "outputs": [],
   "source": [
    "a_df = akas\n"
   ]
  },
  {
   "cell_type": "code",
   "execution_count": 42,
   "id": "b37de564",
   "metadata": {
    "ExecuteTime": {
     "end_time": "2022-10-27T01:06:38.007213Z",
     "start_time": "2022-10-27T01:06:22.915655Z"
    }
   },
   "outputs": [],
   "source": [
    "akas_csv = a_df.to_csv(\"Data/akas.csv.gz\", \n",
    "           index=False, \n",
    "           compression=\"gzip\")\n"
   ]
  },
  {
   "cell_type": "code",
   "execution_count": 43,
   "id": "b4b7d3a8",
   "metadata": {
    "ExecuteTime": {
     "end_time": "2022-10-27T01:06:38.019920Z",
     "start_time": "2022-10-27T01:06:38.009941Z"
    }
   },
   "outputs": [],
   "source": [
    "r_df = ratings "
   ]
  },
  {
   "cell_type": "code",
   "execution_count": 44,
   "id": "c674479d",
   "metadata": {
    "ExecuteTime": {
     "end_time": "2022-10-27T01:06:53.059019Z",
     "start_time": "2022-10-27T01:06:38.024737Z"
    }
   },
   "outputs": [],
   "source": [
    "ratings_csv = r_df.to_csv(\"Data/ratings.csv.gz\", \n",
    "           index=False, \n",
    "           compression=\"gzip\")\n"
   ]
  },
  {
   "cell_type": "code",
   "execution_count": null,
   "id": "633995d5",
   "metadata": {},
   "outputs": [],
   "source": []
  }
 ],
 "metadata": {
  "kernelspec": {
   "display_name": "Python (dojo-env)",
   "language": "python",
   "name": "dojo-env"
  },
  "language_info": {
   "codemirror_mode": {
    "name": "ipython",
    "version": 3
   },
   "file_extension": ".py",
   "mimetype": "text/x-python",
   "name": "python",
   "nbconvert_exporter": "python",
   "pygments_lexer": "ipython3",
   "version": "3.8.13"
  },
  "toc": {
   "base_numbering": 1,
   "nav_menu": {},
   "number_sections": true,
   "sideBar": true,
   "skip_h1_title": false,
   "title_cell": "Table of Contents",
   "title_sidebar": "Contents",
   "toc_cell": false,
   "toc_position": {},
   "toc_section_display": true,
   "toc_window_display": true
  }
 },
 "nbformat": 4,
 "nbformat_minor": 5
}
