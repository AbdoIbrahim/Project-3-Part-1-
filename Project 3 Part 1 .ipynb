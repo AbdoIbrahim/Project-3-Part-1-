{
 "cells": [
  {
   "cell_type": "markdown",
   "id": "2139d6b6",
   "metadata": {},
   "source": [
    "# Project 3 Part 1 \n",
    "\n"
   ]
  },
  {
   "cell_type": "code",
   "execution_count": 1,
   "id": "9248b269",
   "metadata": {},
   "outputs": [],
   "source": [
    "#imports \n",
    "import pandas as pd\n",
    "import numpy as np\n",
    "import seaborn as sns \n",
    "import matplotlib.pyplot as plt "
   ]
  },
  {
   "cell_type": "code",
   "execution_count": 2,
   "id": "839380c5",
   "metadata": {},
   "outputs": [
    {
     "name": "stdout",
     "output_type": "stream",
     "text": [
      "CPU times: user 3 µs, sys: 1 µs, total: 4 µs\n",
      "Wall time: 7.15 µs\n"
     ]
    }
   ],
   "source": [
    "%%time\n",
    "title_basics = 'https://datasets.imdbws.com/title.basics.tsv.gz'\n",
    "title_akas = 'https://datasets.imdbws.com/title.akas.tsv.gz'\n",
    "title_ratings = 'https://datasets.imdbws.com/title.ratings.tsv.gz'"
   ]
  },
  {
   "cell_type": "code",
   "execution_count": 3,
   "id": "b6f5d5c3",
   "metadata": {},
   "outputs": [
    {
     "name": "stdout",
     "output_type": "stream",
     "text": [
      "CPU times: user 23 s, sys: 3.51 s, total: 26.5 s\n",
      "Wall time: 40.5 s\n"
     ]
    }
   ],
   "source": [
    "%%time\n",
    "basics = pd.read_csv(title_basics, sep='\\t', low_memory=False)"
   ]
  },
  {
   "cell_type": "code",
   "execution_count": 4,
   "id": "9b8f07f3",
   "metadata": {},
   "outputs": [
    {
     "name": "stdout",
     "output_type": "stream",
     "text": [
      "CPU times: user 47.1 s, sys: 12 s, total: 59.1 s\n",
      "Wall time: 1min 25s\n"
     ]
    }
   ],
   "source": [
    "%%time\n",
    "akas = pd.read_csv(title_akas, sep='\\t', low_memory=False)"
   ]
  },
  {
   "cell_type": "code",
   "execution_count": 5,
   "id": "768e8351",
   "metadata": {},
   "outputs": [
    {
     "name": "stdout",
     "output_type": "stream",
     "text": [
      "CPU times: user 817 ms, sys: 171 ms, total: 988 ms\n",
      "Wall time: 1.83 s\n"
     ]
    }
   ],
   "source": [
    "%%time\n",
    "ratings = pd.read_csv(title_ratings, sep='\\t', low_memory=False)"
   ]
  },
  {
   "cell_type": "code",
   "execution_count": 6,
   "id": "b82f46dd",
   "metadata": {},
   "outputs": [
    {
     "name": "stdout",
     "output_type": "stream",
     "text": [
      "<class 'pandas.core.frame.DataFrame'>\n",
      "RangeIndex: 9294674 entries, 0 to 9294673\n",
      "Data columns (total 9 columns):\n",
      " #   Column          Dtype \n",
      "---  ------          ----- \n",
      " 0   tconst          object\n",
      " 1   titleType       object\n",
      " 2   primaryTitle    object\n",
      " 3   originalTitle   object\n",
      " 4   isAdult         object\n",
      " 5   startYear       object\n",
      " 6   endYear         object\n",
      " 7   runtimeMinutes  object\n",
      " 8   genres          object\n",
      "dtypes: object(9)\n",
      "memory usage: 638.2+ MB\n",
      "CPU times: user 8.59 ms, sys: 7.31 ms, total: 15.9 ms\n",
      "Wall time: 16.2 ms\n"
     ]
    }
   ],
   "source": [
    "%%time\n",
    "basics.info()"
   ]
  },
  {
   "cell_type": "code",
   "execution_count": 7,
   "id": "ad113bd5",
   "metadata": {},
   "outputs": [
    {
     "data": {
      "text/plain": [
       "0"
      ]
     },
     "execution_count": 7,
     "metadata": {},
     "output_type": "execute_result"
    }
   ],
   "source": [
    "basics.duplicated().sum()"
   ]
  },
  {
   "cell_type": "code",
   "execution_count": 8,
   "id": "d551542b",
   "metadata": {},
   "outputs": [
    {
     "name": "stdout",
     "output_type": "stream",
     "text": [
      "CPU times: user 13.7 s, sys: 1.43 s, total: 15.2 s\n",
      "Wall time: 15.2 s\n"
     ]
    }
   ],
   "source": [
    "%%time\n",
    "basics.replace({'\\\\N':np.nan}, inplace=True)"
   ]
  },
  {
   "cell_type": "code",
   "execution_count": 9,
   "id": "72f69382",
   "metadata": {},
   "outputs": [
    {
     "name": "stdout",
     "output_type": "stream",
     "text": [
      "CPU times: user 10.1 s, sys: 103 ms, total: 10.2 s\n",
      "Wall time: 10.3 s\n"
     ]
    },
    {
     "data": {
      "text/plain": [
       "tconst                  0\n",
       "titleType               0\n",
       "primaryTitle           11\n",
       "originalTitle          11\n",
       "isAdult                 1\n",
       "startYear         1242462\n",
       "endYear           9197350\n",
       "runtimeMinutes    6791397\n",
       "genres             428637\n",
       "dtype: int64"
      ]
     },
     "execution_count": 9,
     "metadata": {},
     "output_type": "execute_result"
    }
   ],
   "source": [
    "%%time\n",
    "basics.isnull().sum()"
   ]
  },
  {
   "cell_type": "markdown",
   "id": "22b7ddf0",
   "metadata": {},
   "source": [
    "## Eliminate movies that are null for runtimeMinutes\n"
   ]
  },
  {
   "cell_type": "code",
   "execution_count": 10,
   "id": "ce20a86b",
   "metadata": {},
   "outputs": [],
   "source": [
    "basics.dropna(subset=['runtimeMinutes'], inplace=True)"
   ]
  },
  {
   "cell_type": "code",
   "execution_count": 11,
   "id": "a737dd34",
   "metadata": {},
   "outputs": [
    {
     "name": "stdout",
     "output_type": "stream",
     "text": [
      "CPU times: user 2.76 s, sys: 16.3 ms, total: 2.78 s\n",
      "Wall time: 2.78 s\n"
     ]
    },
    {
     "data": {
      "text/plain": [
       "tconst                  0\n",
       "titleType               0\n",
       "primaryTitle            1\n",
       "originalTitle           1\n",
       "isAdult                 1\n",
       "startYear           38083\n",
       "endYear           2455796\n",
       "runtimeMinutes          0\n",
       "genres              67818\n",
       "dtype: int64"
      ]
     },
     "execution_count": 11,
     "metadata": {},
     "output_type": "execute_result"
    }
   ],
   "source": [
    "%%time\n",
    "basics.isnull().sum()"
   ]
  },
  {
   "cell_type": "code",
   "execution_count": 12,
   "id": "fe11079a",
   "metadata": {},
   "outputs": [],
   "source": [
    "basics.dropna(subset=['genres'], inplace=True)"
   ]
  },
  {
   "cell_type": "code",
   "execution_count": 13,
   "id": "2fc48c52",
   "metadata": {},
   "outputs": [
    {
     "name": "stdout",
     "output_type": "stream",
     "text": [
      "CPU times: user 2.52 s, sys: 10.6 ms, total: 2.53 s\n",
      "Wall time: 2.53 s\n"
     ]
    },
    {
     "data": {
      "text/plain": [
       "tconst                  0\n",
       "titleType               0\n",
       "primaryTitle            1\n",
       "originalTitle           1\n",
       "isAdult                 0\n",
       "startYear           36745\n",
       "endYear           2389542\n",
       "runtimeMinutes          0\n",
       "genres                  0\n",
       "dtype: int64"
      ]
     },
     "execution_count": 13,
     "metadata": {},
     "output_type": "execute_result"
    }
   ],
   "source": [
    "%%time\n",
    "basics.isnull().sum()"
   ]
  },
  {
   "cell_type": "markdown",
   "id": "8bab5125",
   "metadata": {},
   "source": [
    "#  keep only titleType==Movie"
   ]
  },
  {
   "cell_type": "code",
   "execution_count": 14,
   "id": "33514b89",
   "metadata": {},
   "outputs": [],
   "source": [
    "movie = basics['titleType'] == 'movie'\n",
    "basics = basics[movie]"
   ]
  },
  {
   "cell_type": "code",
   "execution_count": 15,
   "id": "8f9c8f14",
   "metadata": {},
   "outputs": [
    {
     "name": "stdout",
     "output_type": "stream",
     "text": [
      "<class 'pandas.core.frame.DataFrame'>\n",
      "Int64Index: 369604 entries, 8 to 9294624\n",
      "Data columns (total 9 columns):\n",
      " #   Column          Non-Null Count   Dtype \n",
      "---  ------          --------------   ----- \n",
      " 0   tconst          369604 non-null  object\n",
      " 1   titleType       369604 non-null  object\n",
      " 2   primaryTitle    369604 non-null  object\n",
      " 3   originalTitle   369604 non-null  object\n",
      " 4   isAdult         369604 non-null  object\n",
      " 5   startYear       363690 non-null  object\n",
      " 6   endYear         0 non-null       object\n",
      " 7   runtimeMinutes  369604 non-null  object\n",
      " 8   genres          369604 non-null  object\n",
      "dtypes: object(9)\n",
      "memory usage: 28.2+ MB\n"
     ]
    }
   ],
   "source": [
    "basics.info()"
   ]
  },
  {
   "cell_type": "markdown",
   "id": "f92354a7",
   "metadata": {},
   "source": [
    "### keep startYear 2000-2022\n",
    "\n"
   ]
  },
  {
   "cell_type": "code",
   "execution_count": 16,
   "id": "61d49579",
   "metadata": {},
   "outputs": [],
   "source": [
    "#Convert column to a numeric column \n",
    "basics['startYear'] = pd.to_numeric(basics['startYear'])"
   ]
  },
  {
   "cell_type": "markdown",
   "id": "19846447",
   "metadata": {},
   "source": [
    "## keep startYear 2000-2022\n"
   ]
  },
  {
   "cell_type": "code",
   "execution_count": 17,
   "id": "91a7b364",
   "metadata": {},
   "outputs": [],
   "source": [
    "year20 = basics['startYear'] >=2000 \n",
    "\n",
    "year22 = basics['startYear'] <= 2022"
   ]
  },
  {
   "cell_type": "code",
   "execution_count": 18,
   "id": "7f3f991d",
   "metadata": {},
   "outputs": [],
   "source": [
    "basics = basics[year20 & year22]"
   ]
  },
  {
   "cell_type": "code",
   "execution_count": 19,
   "id": "0a62fff6",
   "metadata": {},
   "outputs": [
    {
     "name": "stdout",
     "output_type": "stream",
     "text": [
      "<class 'pandas.core.frame.DataFrame'>\n",
      "Int64Index: 217180 entries, 13079 to 9294624\n",
      "Data columns (total 9 columns):\n",
      " #   Column          Non-Null Count   Dtype  \n",
      "---  ------          --------------   -----  \n",
      " 0   tconst          217180 non-null  object \n",
      " 1   titleType       217180 non-null  object \n",
      " 2   primaryTitle    217180 non-null  object \n",
      " 3   originalTitle   217180 non-null  object \n",
      " 4   isAdult         217180 non-null  object \n",
      " 5   startYear       217180 non-null  float64\n",
      " 6   endYear         0 non-null       object \n",
      " 7   runtimeMinutes  217180 non-null  object \n",
      " 8   genres          217180 non-null  object \n",
      "dtypes: float64(1), object(8)\n",
      "memory usage: 16.6+ MB\n"
     ]
    }
   ],
   "source": [
    "#check that Startyear was converted from an object Dtype to a numeric Dtype \n",
    "basics.info()"
   ]
  },
  {
   "cell_type": "code",
   "execution_count": 20,
   "id": "f723a044",
   "metadata": {},
   "outputs": [
    {
     "data": {
      "text/plain": [
       "13079      2021.0\n",
       "34792      2001.0\n",
       "61094      2020.0\n",
       "66309      2006.0\n",
       "67640      2018.0\n",
       "            ...  \n",
       "9294439    2020.0\n",
       "9294523    2019.0\n",
       "9294564    2015.0\n",
       "9294591    2007.0\n",
       "9294624    2013.0\n",
       "Name: startYear, Length: 217180, dtype: float64"
      ]
     },
     "execution_count": 20,
     "metadata": {},
     "output_type": "execute_result"
    }
   ],
   "source": [
    "basics['startYear']"
   ]
  },
  {
   "cell_type": "markdown",
   "id": "262af8d8",
   "metadata": {},
   "source": [
    "### Include only full-length movies (titleType = \"movie\").\n"
   ]
  },
  {
   "cell_type": "code",
   "execution_count": 26,
   "id": "30490386",
   "metadata": {},
   "outputs": [],
   "source": [
    "movies = basics['genres'].str.contains('documentary')\n",
    "basics = basics[movies]"
   ]
  },
  {
   "cell_type": "code",
   "execution_count": 24,
   "id": "44890823",
   "metadata": {},
   "outputs": [],
   "source": [
    "basics = basics[basics['genres'].str.contains(\"documentary\") == False]\n"
   ]
  },
  {
   "cell_type": "markdown",
   "id": "3c5857b9",
   "metadata": {},
   "source": [
    "### Include only fictional movies (not from documentary genre)\n"
   ]
  },
  {
   "cell_type": "code",
   "execution_count": 27,
   "id": "aeebacd5",
   "metadata": {},
   "outputs": [
    {
     "name": "stdout",
     "output_type": "stream",
     "text": [
      "<class 'pandas.core.frame.DataFrame'>\n",
      "Int64Index: 0 entries\n",
      "Data columns (total 9 columns):\n",
      " #   Column          Non-Null Count  Dtype  \n",
      "---  ------          --------------  -----  \n",
      " 0   tconst          0 non-null      object \n",
      " 1   titleType       0 non-null      object \n",
      " 2   primaryTitle    0 non-null      object \n",
      " 3   originalTitle   0 non-null      object \n",
      " 4   isAdult         0 non-null      object \n",
      " 5   startYear       0 non-null      float64\n",
      " 6   endYear         0 non-null      object \n",
      " 7   runtimeMinutes  0 non-null      object \n",
      " 8   genres          0 non-null      object \n",
      "dtypes: float64(1), object(8)\n",
      "memory usage: 0.0+ bytes\n"
     ]
    }
   ],
   "source": [
    "doc = basics['genres'].str.contains('documentary',case=False)\n",
    "basics = basics[doc]\n",
    "\n",
    "basics.info()"
   ]
  },
  {
   "cell_type": "markdown",
   "id": "f09ed678",
   "metadata": {},
   "source": [
    "### Include only movies that were released in the United States\n"
   ]
  },
  {
   "cell_type": "code",
   "execution_count": 29,
   "id": "911b22e2",
   "metadata": {},
   "outputs": [
    {
     "name": "stdout",
     "output_type": "stream",
     "text": [
      "<class 'pandas.core.frame.DataFrame'>\n",
      "Int64Index: 0 entries\n",
      "Data columns (total 9 columns):\n",
      " #   Column          Non-Null Count  Dtype  \n",
      "---  ------          --------------  -----  \n",
      " 0   tconst          0 non-null      object \n",
      " 1   titleType       0 non-null      object \n",
      " 2   primaryTitle    0 non-null      object \n",
      " 3   originalTitle   0 non-null      object \n",
      " 4   isAdult         0 non-null      object \n",
      " 5   startYear       0 non-null      float64\n",
      " 6   endYear         0 non-null      object \n",
      " 7   runtimeMinutes  0 non-null      object \n",
      " 8   genres          0 non-null      object \n",
      "dtypes: float64(1), object(8)\n",
      "memory usage: 0.0+ bytes\n"
     ]
    }
   ],
   "source": [
    "#  I will use the Title ID column from the akas Dataset to deetermine if the movie is \n",
    "us_movies = basics['tconst'].isin(akas['titleId'])\n",
    "basics = basics[us_movies]\n",
    "\n",
    "basics.info()"
   ]
  },
  {
   "cell_type": "code",
   "execution_count": 30,
   "id": "50862165",
   "metadata": {},
   "outputs": [
    {
     "name": "stdout",
     "output_type": "stream",
     "text": [
      "<class 'pandas.core.frame.DataFrame'>\n",
      "RangeIndex: 33475127 entries, 0 to 33475126\n",
      "Data columns (total 8 columns):\n",
      " #   Column           Dtype \n",
      "---  ------           ----- \n",
      " 0   titleId          object\n",
      " 1   ordering         int64 \n",
      " 2   title            object\n",
      " 3   region           object\n",
      " 4   language         object\n",
      " 5   types            object\n",
      " 6   attributes       object\n",
      " 7   isOriginalTitle  object\n",
      "dtypes: int64(1), object(7)\n",
      "memory usage: 2.0+ GB\n",
      "CPU times: user 3.78 ms, sys: 222 µs, total: 4.01 ms\n",
      "Wall time: 3.93 ms\n"
     ]
    }
   ],
   "source": [
    "%%time\n",
    "akas.info()"
   ]
  },
  {
   "cell_type": "code",
   "execution_count": 31,
   "id": "fe5c20cc",
   "metadata": {},
   "outputs": [
    {
     "data": {
      "text/plain": [
       "JP    3998102\n",
       "FR    3996952\n",
       "DE    3980169\n",
       "IN    3928289\n",
       "ES    3920083\n",
       "       ...   \n",
       "CC          1\n",
       "TV          1\n",
       "NU          1\n",
       "PW          1\n",
       "NR          1\n",
       "Name: region, Length: 248, dtype: int64"
      ]
     },
     "execution_count": 31,
     "metadata": {},
     "output_type": "execute_result"
    }
   ],
   "source": [
    "akas['region'].value_counts()"
   ]
  },
  {
   "cell_type": "code",
   "execution_count": 32,
   "id": "d40c4e2b",
   "metadata": {},
   "outputs": [
    {
     "data": {
      "text/plain": [
       "\\N     6293901\n",
       "ja     3866475\n",
       "fr     3830856\n",
       "hi     3804178\n",
       "es     3779165\n",
       "        ...   \n",
       "rm           1\n",
       "roa          1\n",
       "rn           1\n",
       "eka          1\n",
       "cr           1\n",
       "Name: language, Length: 107, dtype: int64"
      ]
     },
     "execution_count": 32,
     "metadata": {},
     "output_type": "execute_result"
    }
   ],
   "source": [
    "akas['language'].value_counts()"
   ]
  },
  {
   "cell_type": "code",
   "execution_count": 34,
   "id": "bd7ecaeb",
   "metadata": {},
   "outputs": [],
   "source": [
    "#replace null values \n",
    "akas.replace({'\\\\N':np.nan}, inplace=True)"
   ]
  },
  {
   "cell_type": "code",
   "execution_count": 33,
   "id": "e67503a1",
   "metadata": {},
   "outputs": [
    {
     "name": "stdout",
     "output_type": "stream",
     "text": [
      "<class 'pandas.core.frame.DataFrame'>\n",
      "RangeIndex: 1238083 entries, 0 to 1238082\n",
      "Data columns (total 3 columns):\n",
      " #   Column         Non-Null Count    Dtype  \n",
      "---  ------         --------------    -----  \n",
      " 0   tconst         1238083 non-null  object \n",
      " 1   averageRating  1238083 non-null  float64\n",
      " 2   numVotes       1238083 non-null  int64  \n",
      "dtypes: float64(1), int64(1), object(1)\n",
      "memory usage: 28.3+ MB\n",
      "CPU times: user 148 ms, sys: 4.12 ms, total: 152 ms\n",
      "Wall time: 150 ms\n"
     ]
    }
   ],
   "source": [
    "%%time \n",
    "ratings.info()"
   ]
  },
  {
   "cell_type": "code",
   "execution_count": 35,
   "id": "3b9d31ea",
   "metadata": {},
   "outputs": [],
   "source": [
    "#replace null values \n",
    "ratings.replace({'\\\\N':np.nan}, inplace=True)"
   ]
  },
  {
   "cell_type": "code",
   "execution_count": 36,
   "id": "489e504f",
   "metadata": {},
   "outputs": [
    {
     "name": "stdout",
     "output_type": "stream",
     "text": [
      "<class 'pandas.core.frame.DataFrame'>\n",
      "RangeIndex: 33475127 entries, 0 to 33475126\n",
      "Data columns (total 8 columns):\n",
      " #   Column           Dtype \n",
      "---  ------           ----- \n",
      " 0   titleId          object\n",
      " 1   ordering         int64 \n",
      " 2   title            object\n",
      " 3   region           object\n",
      " 4   language         object\n",
      " 5   types            object\n",
      " 6   attributes       object\n",
      " 7   isOriginalTitle  object\n",
      "dtypes: int64(1), object(7)\n",
      "memory usage: 2.0+ GB\n"
     ]
    }
   ],
   "source": [
    "akas.info()"
   ]
  },
  {
   "cell_type": "code",
   "execution_count": 37,
   "id": "4ad8437d",
   "metadata": {},
   "outputs": [
    {
     "name": "stdout",
     "output_type": "stream",
     "text": [
      "<class 'pandas.core.frame.DataFrame'>\n",
      "RangeIndex: 1238083 entries, 0 to 1238082\n",
      "Data columns (total 3 columns):\n",
      " #   Column         Non-Null Count    Dtype  \n",
      "---  ------         --------------    -----  \n",
      " 0   tconst         1238083 non-null  object \n",
      " 1   averageRating  1238083 non-null  float64\n",
      " 2   numVotes       1238083 non-null  int64  \n",
      "dtypes: float64(1), int64(1), object(1)\n",
      "memory usage: 28.3+ MB\n"
     ]
    }
   ],
   "source": [
    "ratings.info()"
   ]
  },
  {
   "cell_type": "code",
   "execution_count": 38,
   "id": "9fca728b",
   "metadata": {},
   "outputs": [
    {
     "name": "stdout",
     "output_type": "stream",
     "text": [
      "<class 'pandas.core.frame.DataFrame'>\n",
      "Int64Index: 0 entries\n",
      "Data columns (total 9 columns):\n",
      " #   Column          Non-Null Count  Dtype  \n",
      "---  ------          --------------  -----  \n",
      " 0   tconst          0 non-null      object \n",
      " 1   titleType       0 non-null      object \n",
      " 2   primaryTitle    0 non-null      object \n",
      " 3   originalTitle   0 non-null      object \n",
      " 4   isAdult         0 non-null      object \n",
      " 5   startYear       0 non-null      float64\n",
      " 6   endYear         0 non-null      object \n",
      " 7   runtimeMinutes  0 non-null      object \n",
      " 8   genres          0 non-null      object \n",
      "dtypes: float64(1), object(8)\n",
      "memory usage: 0.0+ bytes\n"
     ]
    }
   ],
   "source": [
    "basics.info()"
   ]
  },
  {
   "cell_type": "code",
   "execution_count": null,
   "id": "bc33e282",
   "metadata": {},
   "outputs": [],
   "source": []
  }
 ],
 "metadata": {
  "kernelspec": {
   "display_name": "Python (dojo-env)",
   "language": "python",
   "name": "dojo-env"
  },
  "language_info": {
   "codemirror_mode": {
    "name": "ipython",
    "version": 3
   },
   "file_extension": ".py",
   "mimetype": "text/x-python",
   "name": "python",
   "nbconvert_exporter": "python",
   "pygments_lexer": "ipython3",
   "version": "3.8.13"
  }
 },
 "nbformat": 4,
 "nbformat_minor": 5
}
